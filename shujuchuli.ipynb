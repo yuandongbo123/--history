## 1.数据EDA
import pandas as pd
import numpy as np
import seaborn as sns 
import matplotlib.pyplot as plt 
df = pd.read_csv('taop-2021/100001/To user/train1_data_info.csv')
# df = df.drop(['id_series','id_image','id_doctor'],axis=1)
# df.head()
df
id_type	id_project	id_patient	id_exam	id_series	id_image	id_doctor	class(1:PM;2:MD;3:glaucoma;4:RVO;5:DR)
0	1	100001	train_2737632-5	train_2737632-5	NaN	NaN	NaN	5
1	1	100001	train_3403951-2	train_3403951-2	NaN	NaN	NaN	5
2	1	100001	train_4100113-1	train_4100113-1	NaN	NaN	NaN	3
3	1	100001	train_1704543-4	train_1704543-4	NaN	NaN	NaN	1
4	1	100001	train_3776354-2	train_3776354-2	NaN	NaN	NaN	3
...	...	...	...	...	...	...	...	...
2995	1	100001	train_3405832-5	train_3405832-5	NaN	NaN	NaN	4
2996	1	100001	train_3624754-3	train_3624754-3	NaN	NaN	NaN	4
2997	1	100001	train_2719582-2	train_2719582-2	NaN	NaN	NaN	2
2998	1	100001	train_2477660-1	train_2477660-1	NaN	NaN	NaN	1
2999	1	100001	train_1412335-1	train_1412335-1	NaN	NaN	NaN	1
3000 rows × 8 columns

# 对label进行编码，并将映射表保存下来
from sklearn.preprocessing import LabelEncoder,OneHotEncoder
labelencoder = LabelEncoder()
labelencoder.fit(df['class(1:PM;2:MD;3:glaucoma;4:RVO;5:DR)'])
df['label'] = labelencoder.transform(df['class(1:PM;2:MD;3:glaucoma;4:RVO;5:DR)'])
label_map = dict(zip(labelencoder.classes_,labelencoder.transform(labelencoder.classes_)))
label_inv_map = {v:k for k,v in label_map.items()}
label_map
​
{1: 0, 2: 1, 3: 2, 4: 3, 5: 4}
#查看共5类的统计数量和绘图查看
top5_trainData = df['class(1:PM;2:MD;3:glaucoma;4:RVO;5:DR)'].value_counts().sort_values(ascending=False).head(5)
print(top5_trainData)
plt.figure(figsize=(5,5))
sns.barplot(x=top5_trainData.index,y=top5_trainData)
plt.xticks(rotation=0)
plt.title("Top 5 categories of img statistics")
plt.show()
​
2    647
3    647
1    642
5    641
4    423
Name: class(1:PM;2:MD;3:glaucoma;4:RVO;5:DR), dtype: int64

2.读取图片观看
# !pip install pydicom
!pip install opencv-python
​
Looking in indexes: http://mirrors.tencentyun.com/pypi/simple
Collecting opencv-python
  Downloading http://mirrors.tencentyun.com/pypi/packages/7f/45/32b09b11c76c354beb94c6549d844241709366fac02f253aa7f7b9ec9861/opencv_python-4.5.3.56-cp36-cp36m-manylinux2014_x86_64.whl (49.9 MB)
     |████████████████████████████████| 49.9 MB 27.3 MB/s eta 0:00:01
Requirement already satisfied: numpy>=1.13.3 in /opt/conda/envs/pytorch_py3/lib/python3.6/site-packages (from opencv-python) (1.19.2)
Installing collected packages: opencv-python
Successfully installed opencv-python-4.5.3.56
LOAD SINGLE IMAGE
IMAGE_SIZE = 240
SCALE = .96
NUM_IMAGES = 64
MRI_TYPE = "FLAIR"
##减小黑边
from  PIL import Image
def load_dicom_image(
    path,
    img_size=IMAGE_SIZE,
    scale=SCALE):
    '''
    This function allows you to load a DCIM type image 
    and apply preprocessing steps such as crop, resize 
    and denoising filter to it.
    ****************************************************
    PARAMETERS
    ****************************************************
    - path : String
        Path to the DCIM image file to load.
    - img_size : Integer
        Image size desired for resizing.
    - scale : Float
        Desired scale for the cropped image
    - prep : Bool
        True for a full preprocessing with
        denoising.
    '''
    # Load single image
    img = dicom.read_file(path).pixel_array
    # Crop image
    center_x, center_y = img.shape[1] / 2, img.shape[0] / 2
    width_scaled, height_scaled = img.shape[1] * scale, img.shape[0] * scale
    left_x, right_x = center_x - width_scaled / 2, center_x + width_scaled / 2
    top_y, bottom_y = center_y - height_scaled / 2, center_y + height_scaled / 2
    img = img[int(top_y):int(bottom_y), int(left_x):int(right_x)]
    # Resize image
#     img = cv2.resize(img, (img_size, img_size))
    
    return img
def crop(img):
    # 以最长的一边为边长，把短的边补为一样长，做成正方形，避免resize时会改变比例
    dowm = img.shape[0]
    up = img.shape[1]
    max1 = max(dowm, up)
    dowm = (max1 - dowm) // 2
    up = (max1 - up) // 2
    dowm_zuo, dowm_you = dowm, dowm
    up_zuo, up_you = up, up
    if (max1 - img.shape[0]) % 2 != 0:
        dowm_zuo = dowm_zuo + 1
    if (max1 - img.shape[1]) % 2 != 0:
        up_zuo = up_zuo + 1
    matrix_pad = np.pad(img, pad_width=((dowm_zuo, dowm_you),  # 向上填充n个维度，向下填充n个维度
                                        (up_zuo, up_you),  # 向左填充n个维度，向右填充n个维度
                                        (0,0))  # 通道数不填充
                        , mode="constant",  # 填充模式
                        constant_values=(0,0))
    img = Image.fromarray(matrix_pad)
    img = img.resize((224,224))
    return img 
​
import cv2
import matplotlib.pyplot as plt
import pydicom as dicom
from pydicom.pixel_data_handlers.util import apply_voi_lut
sample_img = dicom.read_file('taop-2021/100001/To user/train_643616-1.dcm').pixel_array
# sample_img = cv2.resize(sample_img, (224, 224))
# np.set_printoptions(threshold=np.inf)
# print(sample_img)          灰度值在0到255之间
preproc_img = load_dicom_image('taop-2021/100001/To user/train_643616-1.dcm')
preproc_img1 = crop(preproc_img)
# print(preproc_img1.shape)
​
fig = plt.figure(figsize=(12,8))
ax1 = plt.subplot(1,2,1)
ax1.imshow(sample_img)
ax1.set_title(f"Original image shape = {sample_img.shape}")
plt.savefig('1.jpg')
ax2 = plt.subplot(1,2,2)
ax2.imshow(preproc_img1)
ax2.set_title(f"Preproc image shape = {preproc_img1.shape}")
plt.show()
---------------------------------------------------------------------------
AttributeError                            Traceback (most recent call last)
<ipython-input-85-a7dacc3bb623> in <module>
     18 ax2 = plt.subplot(1,2,2)
     19 ax2.imshow(preproc_img1)
---> 20 ax2.set_title(f"Preproc image shape = {preproc_img1.shape}")
     21 plt.show()

/opt/conda/envs/pytorch_py3/lib/python3.6/site-packages/PIL/Image.py in __getattr__(self, name)
    544             )
    545             return self._category
--> 546         raise AttributeError(name)
    547 
    548     @property

AttributeError: shape

import pydicom 
import numpy as np
from pydicom.pixel_data_handlers.util import apply_voi_lut
def read_dicm(path, voi_lut=False, fix_monochrome=True):
    dicom = pydicom.read_file(path)
    # VOI LUT (if available by DICOM device) is used to transform raw DICOM data to 
    # "human-friendly" view
    if voi_lut:
        data = apply_voi_lut(dicom.pixel_array, dicom)
    else:
        data = dicom.pixel_array
               
    # depending on this value, X-ray may look inverted - fix that:
    if fix_monochrome and dicom.PhotometricInterpretation == "MONOCHROME1":
        data = np.amax(data) - data
        
    data = data - np.min(data)
    if np.max(data) != 0:
        data = data / np.max(data)
    data = (data * 255).astype(np.uint8)
        
    return data
import pandas as pd
import cv2
import matplotlib.pyplot as plt
df = pd.read_csv('/home/tione/notebook/taop-2021/100001/To user/train1_data_info.csv')
def display_samples(df, columns=4, rows=3):
    fig=plt.figure(figsize=(5*columns, 4*rows))
​
    for i in range(columns*rows):
        image_path = df.loc[i,'id_patient']
        image_id = df.loc[i,'class(1:PM;2:MD;3:glaucoma;4:RVO;5:DR)']
        img = cv2.imread(f'/home/tione/notebook/dcm2png/{image_path}.png')
        img = cv2.cvtColor(img, cv2.COLOR_BGR2RGB)
        
        fig.add_subplot(rows, columns, i+1)
        plt.title(image_id)
        plt.imshow(img)
    
    plt.tight_layout()
​
display_samples(df)

import os
import pandas as pd
df_test = pd.DataFrame()
df_test['id_patient'] = [x.split('.')[0] for x in os.listdir('/home/tione/notebook/dcm2png_test')]
​
def display_samples(df, columns=4, rows=3):
    fig=plt.figure(figsize=(5*columns, 4*rows))
​
    for i in range(columns*rows):
        image_path = df_test.loc[i,'id_patient']
#         image_id = df.loc[i,'class(1:PM;2:MD;3:glaucoma;4:RVO;5:DR)']
        img = cv2.imread(f'/home/tione/notebook/dcm2png_test/{image_path}.png')
        img = cv2.cvtColor(img, cv2.COLOR_BGR2RGB)
        
        fig.add_subplot(rows, columns, i+1)
#         plt.title(image_id)
        plt.imshow(img)
    
    plt.tight_layout()
​
display_samples(df_test)

import matplotlib.pyplot as plt
plt.figure(figsize=(10, 6), dpi=150)
plt.title("dicom")
plt.imshow(data, 'gray')
plt.show()

from PIL import Image
def resize(array, size, keep_ratio=False, resample=Image.LANCZOS):
    """resize array到指定大小，采样格式为Image.LANCZOS
    resample有:Image.BICUBIC，Image.LANCZOS，
    Image.BILINEAR，Image.NEAREST四种采样方法
    """
    img = Image.fromarray(array)
    if keep_ratio:
        img.thumbnail((size, size), resample) #缩略图，只能缩小
    else:
        img = img.resize((size, size), resample)
    return img
​
resize_data = resize(data, 256)
plt.figure(figsize=(10, 6), dpi=150)
plt.title("resize dicom")
plt.imshow(resize_data, 'gray')
plt.show()   
​

​
import os
count = 0
 
 
 # 遍历文件夹
def walkFile(file):
    for root, dirs, files in os.walk(file): 
        # root 表示当前正在访问的文件夹路径
      # dirs 表示该文件夹下的子目录名list
      # files 表示该文件夹下的文件list
       # 遍历文件
        for f in files:
            global count      
            count += 1        
#             print(os.path.join(root, f))
​
​
       # 遍历所有的文件夹
        for d in dirs:
            print(os.path.join(root, d))
    print("文件数量一共为:", count)
 
 
if __name__ == '__main__':
    walkFile(r"dcm_2_png")
